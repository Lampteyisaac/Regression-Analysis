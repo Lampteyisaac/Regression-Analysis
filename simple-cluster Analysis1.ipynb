{
 "cells": [
  {
   "cell_type": "code",
   "execution_count": null,
   "id": "c5838236",
   "metadata": {},
   "outputs": [],
   "source": [
    "#importing relevant libraries\n",
    "import pandas as pd\n",
    "import matplotlib.pyplot as plt\n",
    "import seaborn as sns\n",
    "sns.set()\n",
    "from sklearn.cluster import KMeans\n",
    "\n",
    "\n",
    "#loading data\n",
    "raw_data = pd.read_csv('Countries_exercise.csv')\n",
    "raw_data.head()\n",
    "\n",
    "data = raw_data.copy()\n",
    "data\n",
    "\n",
    "#data plotting\n",
    "plt.scatter(data['Longitude'], data['Latitude'])\n",
    "plt.xlim(-180,180)\n",
    "plt.ylim(-90, 90)\n",
    "plt.show()\n",
    "\n",
    "#data selection\n",
    "x = data.iloc[:,1:3]\n",
    "x\n",
    "\n",
    "#clustering\n",
    "kmeans = KMeans(7)\n",
    "kmeans.fit(x)\n",
    "\n",
    "#clustering results\n",
    "identified_clusters = kmeans.fit_predict(x)\n",
    "identified_clusters\n",
    "\n",
    "data_with_clusters = data.copy()\n",
    "data_with_clusters['Cluster'] = identified_clusters\n",
    "data_with_clusters\n",
    "\n",
    "plt.scatter(data['Longitude'], data['Latitude'],c=data_with_clusters['Cluster'], cmap = 'rainbow')\n",
    "plt.xlim(-180,180)\n",
    "plt.ylim(-90, 90)\n",
    "plt.show()"
   ]
  }
 ],
 "metadata": {
  "kernelspec": {
   "display_name": "Python 3 (ipykernel)",
   "language": "python",
   "name": "python3"
  },
  "language_info": {
   "codemirror_mode": {
    "name": "ipython",
    "version": 3
   },
   "file_extension": ".py",
   "mimetype": "text/x-python",
   "name": "python",
   "nbconvert_exporter": "python",
   "pygments_lexer": "ipython3",
   "version": "3.9.13"
  }
 },
 "nbformat": 4,
 "nbformat_minor": 5
}
